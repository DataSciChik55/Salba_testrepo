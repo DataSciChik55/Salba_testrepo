{
  "metadata": {
    "language_info": {
      "codemirror_mode": {
        "name": "python",
        "version": 3
      },
      "file_extension": ".py",
      "mimetype": "text/x-python",
      "name": "python",
      "nbconvert_exporter": "python",
      "pygments_lexer": "ipython3",
      "version": "3.8"
    },
    "kernelspec": {
      "name": "python",
      "display_name": "Pyolite",
      "language": "python"
    }
  },
  "nbformat_minor": 4,
  "nbformat": 4,
  "cells": [
    {
      "cell_type": "markdown",
      "source": "# My Jupyter Notebook in IBM Watson Studio",
      "metadata": {}
    },
    {
      "cell_type": "markdown",
      "source": "**Shalisa Alba** \n\n\nCelebrity Ghostwriter ",
      "metadata": {}
    },
    {
      "cell_type": "markdown",
      "source": "*I am interested in data science because currently, data runs our world. I believe it's always good to be educated on emerging tech and popular methodologies, and data science is one of the fastest-growing industries to date.*",
      "metadata": {}
    },
    {
      "cell_type": "markdown",
      "source": "### The following code should solve the equation when x is a known integer",
      "metadata": {}
    },
    {
      "cell_type": "code",
      "source": "x = 4\n1 + x",
      "metadata": {
        "trusted": true
      },
      "execution_count": 1,
      "outputs": [
        {
          "execution_count": 1,
          "output_type": "execute_result",
          "data": {
            "text/plain": "5"
          },
          "metadata": {}
        }
      ]
    },
    {
      "cell_type": "markdown",
      "source": "I ~~don't~~ love data science! For the following reasons:\n\n1. Data science is challenging.\n1. Data science is interesting.\n1. Data science helps to inform important world decisions.\n1. Data science utilizes cool technology.\n1. Data science rocks!\n\n<a href=\"https://www.ibm.com/topics/data-science\">Click here</a> to learn more about the field of data science.",
      "metadata": {}
    }
  ]
}